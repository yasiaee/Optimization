{
 "cells": [
  {
   "cell_type": "code",
   "execution_count": 1,
   "id": "808b39f5",
   "metadata": {},
   "outputs": [],
   "source": [
    "import numdifftools as nd\n",
    "import numpy as np"
   ]
  },
  {
   "cell_type": "code",
   "execution_count": 2,
   "id": "5c110491",
   "metadata": {},
   "outputs": [],
   "source": [
    "def six_hump_camel(x):\n",
    "    return (x[0]**6/3) - 2.1*x[0]**4 + 4*x[1]**4 + 4*x[0]**2 -  4*x[1]**2 + x[0]*x[1]"
   ]
  },
  {
   "cell_type": "code",
   "execution_count": 3,
   "id": "6c9c31f5",
   "metadata": {},
   "outputs": [],
   "source": [
    "grad0 = nd.Gradient(six_hump_camel)([-1,1])"
   ]
  },
  {
   "cell_type": "code",
   "execution_count": 4,
   "id": "a2ae1dbf",
   "metadata": {},
   "outputs": [
    {
     "data": {
      "text/plain": [
       "array([-0.6,  7. ])"
      ]
     },
     "execution_count": 4,
     "metadata": {},
     "output_type": "execute_result"
    }
   ],
   "source": [
    "grad0"
   ]
  },
  {
   "cell_type": "code",
   "execution_count": 5,
   "id": "e02d2c4c",
   "metadata": {},
   "outputs": [],
   "source": [
    "grad0_2d = grad0[..., np.newaxis]"
   ]
  },
  {
   "cell_type": "code",
   "execution_count": 6,
   "id": "f73aaff9",
   "metadata": {},
   "outputs": [],
   "source": [
    "d0 = -grad0_2d"
   ]
  },
  {
   "cell_type": "code",
   "execution_count": 7,
   "id": "86c08850",
   "metadata": {},
   "outputs": [
    {
     "data": {
      "text/latex": [
       "$\\displaystyle - 397.52 alfa - 112 \\left(1 - 7 alfa\\right)^{3} + 1.2 \\left(0.6 alfa - 1\\right)^{5} - 5.04 \\left(0.6 alfa - 1\\right)^{3} + 58.8$"
      ],
      "text/plain": [
       "-397.52*alfa - 112*(1 - 7*alfa)**3 + 1.2*(0.6*alfa - 1)**5 - 5.04*(0.6*alfa - 1)**3 + 58.8"
      ]
     },
     "execution_count": 7,
     "metadata": {},
     "output_type": "execute_result"
    }
   ],
   "source": [
    "from sympy import *\n",
    "alfa = symbols('alfa')\n",
    "x0 = (-1-alfa*(-0.6)) \n",
    "x1 =(1 - alfa*7)\n",
    "y = [x0,x1]\n",
    "f = six_hump_camel(y)\n",
    "\n",
    "ff = diff(f, alfa)\n",
    "ff\n",
    "#{{alfa -> 0.034644}, {alfa -> 0.155721}, {alfa -> 0.238163}}"
   ]
  },
  {
   "cell_type": "code",
   "execution_count": 8,
   "id": "c6f122c8",
   "metadata": {},
   "outputs": [],
   "source": [
    "alfa0 = 0.034644\n",
    "x0_0 = (-1-alfa0*(-0.6)) \n",
    "x1_0 =(1 - alfa0*7)"
   ]
  },
  {
   "cell_type": "code",
   "execution_count": 9,
   "id": "192d6a30",
   "metadata": {},
   "outputs": [],
   "source": [
    "alfa0 = 0.034644\n",
    "x0_0 = (-1-alfa0*(-0.6)) \n",
    "x1_0 =(1 - alfa0*7)"
   ]
  },
  {
   "cell_type": "code",
   "execution_count": 10,
   "id": "f5f25f00",
   "metadata": {},
   "outputs": [
    {
     "name": "stdout",
     "output_type": "stream",
     "text": [
      "-0.9792136\n",
      "0.757492\n"
     ]
    }
   ],
   "source": [
    "print(x0_0)\n",
    "print(x1_0)"
   ]
  },
  {
   "cell_type": "code",
   "execution_count": 11,
   "id": "9d1f594c",
   "metadata": {},
   "outputs": [],
   "source": [
    "grad1 = nd.Gradient(six_hump_camel)([x0_0,x1_0])"
   ]
  },
  {
   "cell_type": "code",
   "execution_count": 12,
   "id": "6c626ceb",
   "metadata": {},
   "outputs": [],
   "source": [
    "grad1_2d = grad1[..., np.newaxis]"
   ]
  },
  {
   "cell_type": "code",
   "execution_count": 13,
   "id": "e7f2182d",
   "metadata": {},
   "outputs": [
    {
     "data": {
      "text/plain": [
       "array([[-0.98982097],\n",
       "       [-0.08483819]])"
      ]
     },
     "execution_count": 13,
     "metadata": {},
     "output_type": "execute_result"
    }
   ],
   "source": [
    "grad1_2d"
   ]
  },
  {
   "cell_type": "code",
   "execution_count": 14,
   "id": "624b4356",
   "metadata": {},
   "outputs": [
    {
     "data": {
      "text/plain": [
       "array([[ 0.6],\n",
       "       [-7. ]])"
      ]
     },
     "execution_count": 14,
     "metadata": {},
     "output_type": "execute_result"
    }
   ],
   "source": [
    "d0 "
   ]
  },
  {
   "cell_type": "code",
   "execution_count": 15,
   "id": "1582675c",
   "metadata": {},
   "outputs": [],
   "source": [
    "# Fletcher-Reeves formula: \n",
    "beta1 = ()"
   ]
  },
  {
   "cell_type": "code",
   "execution_count": 16,
   "id": "fa72a426",
   "metadata": {},
   "outputs": [],
   "source": [
    "import numpy as np\n",
    "x = np.array([[1],[2]])\n",
    "norm_grad0 = (np.linalg.norm(grad0_2d,ord=2))**2\n",
    "norm_grad1 = (np.linalg.norm(grad1_2d,ord=2))**2"
   ]
  },
  {
   "cell_type": "code",
   "execution_count": 17,
   "id": "0919ae80",
   "metadata": {},
   "outputs": [],
   "source": [
    "beta1 = norm_grad1/norm_grad0"
   ]
  },
  {
   "cell_type": "code",
   "execution_count": 18,
   "id": "9271e958",
   "metadata": {},
   "outputs": [],
   "source": [
    "d1 = -grad1_2d + beta1*d0"
   ]
  },
  {
   "cell_type": "code",
   "execution_count": 19,
   "id": "3034cbc0",
   "metadata": {},
   "outputs": [
    {
     "data": {
      "text/plain": [
       "array([[ 1.00181785],\n",
       "       [-0.05512537]])"
      ]
     },
     "execution_count": 19,
     "metadata": {},
     "output_type": "execute_result"
    }
   ],
   "source": [
    "d1"
   ]
  },
  {
   "cell_type": "code",
   "execution_count": 22,
   "id": "fed21978",
   "metadata": {},
   "outputs": [
    {
     "data": {
      "text/latex": [
       "$\\displaystyle 7.89435042598017 alfa - 0.38335898961155 \\left(1 - 0.0727735342419458 alfa\\right)^{3} + 2.02191357797565 \\left(alfa - 0.977436766573884\\right)^{5} - 8.46124651269717 \\left(alfa - 0.977436766573884\\right)^{3} - 6.70104457452453$"
      ],
      "text/plain": [
       "7.89435042598017*alfa - 0.38335898961155*(1 - 0.0727735342419458*alfa)**3 + 2.02191357797565*(alfa - 0.977436766573884)**5 - 8.46124651269717*(alfa - 0.977436766573884)**3 - 6.70104457452453"
      ]
     },
     "execution_count": 22,
     "metadata": {},
     "output_type": "execute_result"
    }
   ],
   "source": [
    "from sympy import *\n",
    "alfa = symbols('alfa')\n",
    "x0 = (-0.9792136+ alfa *(1.00181785)) \n",
    "x1 =(0.757492 + alfa *(-0.05512537))\n",
    "y = [x0,x1]\n",
    "f = six_hump_camel(y)\n",
    "\n",
    "ff = diff(f, alfa)\n",
    "ff"
   ]
  },
  {
   "cell_type": "code",
   "execution_count": 23,
   "id": "f5dda99a",
   "metadata": {},
   "outputs": [],
   "source": [
    "# {{alfa -> -0.723063}, {alfa -> -0.129705}, {alfa -> 0.887814}, {alfa -> 2.27304}, {alfa -> 2.57909}}"
   ]
  },
  {
   "cell_type": "code",
   "execution_count": 24,
   "id": "4b6563fc",
   "metadata": {},
   "outputs": [],
   "source": [
    "alfa1 = 0.887814\n",
    "x0_1 = (-0.9792136+alfa1*(1.00181785)) \n",
    "x1_1 =(0.757492+alfa1*(-0.05512537))"
   ]
  },
  {
   "cell_type": "code",
   "execution_count": 25,
   "id": "fcab4a1e",
   "metadata": {},
   "outputs": [
    {
     "name": "stdout",
     "output_type": "stream",
     "text": [
      "-0.08978568732010006\n",
      "0.7085509247588201\n"
     ]
    }
   ],
   "source": [
    "print(x0_1)\n",
    "print(x1_1)"
   ]
  },
  {
   "cell_type": "code",
   "execution_count": 26,
   "id": "569db8ba",
   "metadata": {},
   "outputs": [
    {
     "data": {
      "text/plain": [
       "0.47857155283954844"
      ]
     },
     "execution_count": 26,
     "metadata": {},
     "output_type": "execute_result"
    }
   ],
   "source": [
    "six_hump_camel([-0.9792136,0.757492])"
   ]
  },
  {
   "cell_type": "code",
   "execution_count": 27,
   "id": "98055919",
   "metadata": {},
   "outputs": [
    {
     "data": {
      "text/plain": [
       "-1.0314914333769314"
      ]
     },
     "execution_count": 27,
     "metadata": {},
     "output_type": "execute_result"
    }
   ],
   "source": [
    "six_hump_camel([-0.08978568732010006,0.7085509247588201])"
   ]
  },
  {
   "cell_type": "code",
   "execution_count": 28,
   "id": "cb4e5457",
   "metadata": {},
   "outputs": [
    {
     "data": {
      "text/plain": [
       "array([[-0.00366629],\n",
       "       [-0.06660856]])"
      ]
     },
     "execution_count": 28,
     "metadata": {},
     "output_type": "execute_result"
    }
   ],
   "source": [
    "grad2 = nd.Gradient(six_hump_camel)([x0_1,x1_1])\n",
    "grad2_2d = grad2[..., np.newaxis]\n",
    "grad2_2d"
   ]
  },
  {
   "cell_type": "code",
   "execution_count": 29,
   "id": "b9f5e4f9",
   "metadata": {},
   "outputs": [
    {
     "data": {
      "text/plain": [
       "array([[ 1.00181785],\n",
       "       [-0.05512537]])"
      ]
     },
     "execution_count": 29,
     "metadata": {},
     "output_type": "execute_result"
    }
   ],
   "source": [
    "d1"
   ]
  },
  {
   "cell_type": "code",
   "execution_count": 30,
   "id": "1e6abf97",
   "metadata": {},
   "outputs": [],
   "source": [
    "import numpy as np\n",
    "\n",
    "norm_grad1 = (np.linalg.norm(grad1_2d,ord=2))**2\n",
    "norm_grad2 = (np.linalg.norm(grad2_2d,ord=2))**2"
   ]
  },
  {
   "cell_type": "code",
   "execution_count": 31,
   "id": "686fa4f7",
   "metadata": {},
   "outputs": [],
   "source": [
    "beta2 = norm_grad2/norm_grad1"
   ]
  },
  {
   "cell_type": "code",
   "execution_count": 32,
   "id": "9eb2a589",
   "metadata": {},
   "outputs": [],
   "source": [
    "d2 = -grad2_2d + beta2*d1"
   ]
  },
  {
   "cell_type": "code",
   "execution_count": 33,
   "id": "318e270c",
   "metadata": {},
   "outputs": [
    {
     "data": {
      "text/plain": [
       "array([[0.0081835 ],\n",
       "       [0.06635999]])"
      ]
     },
     "execution_count": 33,
     "metadata": {},
     "output_type": "execute_result"
    }
   ],
   "source": [
    "d2"
   ]
  },
  {
   "cell_type": "code",
   "execution_count": 35,
   "id": "50f858d0",
   "metadata": {},
   "outputs": [
    {
     "data": {
      "text/latex": [
       "$\\displaystyle - 0.0336073148480708 alfa + 9.55002789845859 \\cdot 10^{-8} \\left(0.0911448165543862 alfa - 1\\right)^{5} - 4.97553410571385 \\cdot 10^{-5} \\left(0.0911448165543862 alfa - 1\\right)^{3} + 0.377693492452011 \\left(0.0936559217992524 alfa + 1\\right)^{3} - 0.382193298449302$"
      ],
      "text/plain": [
       "-0.0336073148480708*alfa + 9.55002789845859e-8*(0.0911448165543862*alfa - 1)**5 - 4.97553410571385e-5*(0.0911448165543862*alfa - 1)**3 + 0.377693492452011*(0.0936559217992524*alfa + 1)**3 - 0.382193298449302"
      ]
     },
     "execution_count": 35,
     "metadata": {},
     "output_type": "execute_result"
    }
   ],
   "source": [
    "from sympy import *\n",
    "alfa = symbols('alfa')\n",
    "x0 = (-0.08978568732010006+ alfa *(0.0081835)) \n",
    "x1 =(0.7085509247588201 + alfa *(0.06635999))\n",
    "y = [x0,x1]\n",
    "f = six_hump_camel(y)\n",
    "\n",
    "ff = diff(f, alfa)\n",
    "ff\n",
    "# {{alfa -> 0.0608733}}"
   ]
  },
  {
   "cell_type": "code",
   "execution_count": 36,
   "id": "1abf19d6",
   "metadata": {},
   "outputs": [],
   "source": [
    "alfa2 = 0.0608733\n",
    "x0_2 = (-0.08978568732010006+alfa2*(0.0081835 )) \n",
    "x1_2 =(0.7085509247588201+alfa2*(0.06635999))"
   ]
  },
  {
   "cell_type": "code",
   "execution_count": 37,
   "id": "f2b8bf0c",
   "metadata": {},
   "outputs": [
    {
     "name": "stdout",
     "output_type": "stream",
     "text": [
      "-0.08928753066955006\n",
      "0.7125904763380871\n"
     ]
    }
   ],
   "source": [
    "print(x0_2)\n",
    "print(x1_2)"
   ]
  },
  {
   "cell_type": "code",
   "execution_count": 38,
   "id": "5dbbc4fd",
   "metadata": {},
   "outputs": [
    {
     "data": {
      "text/plain": [
       "-1.0316272556933292"
      ]
     },
     "execution_count": 38,
     "metadata": {},
     "output_type": "execute_result"
    }
   ],
   "source": [
    "six_hump_camel([-0.08928753066955006,0.7125904763380871])"
   ]
  }
 ],
 "metadata": {
  "kernelspec": {
   "display_name": "Python 3",
   "language": "python",
   "name": "python3"
  },
  "language_info": {
   "codemirror_mode": {
    "name": "ipython",
    "version": 3
   },
   "file_extension": ".py",
   "mimetype": "text/x-python",
   "name": "python",
   "nbconvert_exporter": "python",
   "pygments_lexer": "ipython3",
   "version": "3.8.8"
  }
 },
 "nbformat": 4,
 "nbformat_minor": 5
}
