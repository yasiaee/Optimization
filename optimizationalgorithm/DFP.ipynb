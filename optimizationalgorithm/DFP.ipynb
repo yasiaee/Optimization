{
 "cells": [
  {
   "cell_type": "code",
   "execution_count": 1,
   "id": "1b519a3f",
   "metadata": {},
   "outputs": [],
   "source": [
    "import numdifftools as nd\n",
    "import numpy as np"
   ]
  },
  {
   "cell_type": "code",
   "execution_count": 2,
   "id": "eb49de95",
   "metadata": {},
   "outputs": [],
   "source": [
    "def six_hump_camel(x):\n",
    "    return (x[0]**6/3) - 2.1*x[0]**4 + 4*x[1]**4 + 4*x[0]**2 -  4*x[1]**2 + x[0]*x[1]"
   ]
  },
  {
   "cell_type": "code",
   "execution_count": 3,
   "id": "9b38317d",
   "metadata": {},
   "outputs": [],
   "source": [
    "grad0 = nd.Gradient(six_hump_camel)([-1,1])"
   ]
  },
  {
   "cell_type": "code",
   "execution_count": 4,
   "id": "0219fb16",
   "metadata": {},
   "outputs": [],
   "source": [
    "grad0_2d = grad0[..., np.newaxis]"
   ]
  },
  {
   "cell_type": "code",
   "execution_count": 5,
   "id": "0a745268",
   "metadata": {},
   "outputs": [],
   "source": [
    "d0 = -np.identity(2)@grad0_2d"
   ]
  },
  {
   "cell_type": "code",
   "execution_count": 6,
   "id": "de67e2e8",
   "metadata": {},
   "outputs": [
    {
     "data": {
      "text/latex": [
       "$\\displaystyle - 397.52 alfa - 112 \\left(1 - 7 alfa\\right)^{3} + 1.2 \\left(0.6 alfa - 1\\right)^{5} - 5.04 \\left(0.6 alfa - 1\\right)^{3} + 58.8$"
      ],
      "text/plain": [
       "-397.52*alfa - 112*(1 - 7*alfa)**3 + 1.2*(0.6*alfa - 1)**5 - 5.04*(0.6*alfa - 1)**3 + 58.8"
      ]
     },
     "execution_count": 6,
     "metadata": {},
     "output_type": "execute_result"
    }
   ],
   "source": [
    "from sympy import *\n",
    "alfa = symbols('alfa')\n",
    "x0 = (-1-alfa*(-0.6)) \n",
    "x1 =(1 - alfa*7)\n",
    "y = [x0,x1]\n",
    "f = six_hump_camel(y)\n",
    "\n",
    "ff = diff(f, alfa)\n",
    "ff\n",
    "#{{alfa -> 0.034644}, {alfa -> 0.155721}, {alfa -> 0.238163}}"
   ]
  },
  {
   "cell_type": "code",
   "execution_count": 7,
   "id": "0c06fab7",
   "metadata": {},
   "outputs": [],
   "source": [
    "alfa0 = 0.034644\n",
    "x0_0 = (-1-alfa0*(-0.6)) \n",
    "x1_0 =(1 - alfa0*7)"
   ]
  },
  {
   "cell_type": "code",
   "execution_count": 8,
   "id": "fd51f164",
   "metadata": {},
   "outputs": [
    {
     "name": "stdout",
     "output_type": "stream",
     "text": [
      "-0.9792136\n",
      "0.757492\n"
     ]
    }
   ],
   "source": [
    "print(x0_0)\n",
    "print(x1_0)"
   ]
  },
  {
   "cell_type": "code",
   "execution_count": 9,
   "id": "3da9cd27",
   "metadata": {},
   "outputs": [],
   "source": [
    "grad1 = nd.Gradient(six_hump_camel)([x0_0,x1_0])"
   ]
  },
  {
   "cell_type": "code",
   "execution_count": 10,
   "id": "b1c97ef0",
   "metadata": {},
   "outputs": [],
   "source": [
    "grad1_2d = grad1[..., np.newaxis]"
   ]
  },
  {
   "cell_type": "code",
   "execution_count": 11,
   "id": "529d4f37",
   "metadata": {},
   "outputs": [],
   "source": [
    "A0 = np.identity(2)"
   ]
  },
  {
   "cell_type": "code",
   "execution_count": 12,
   "id": "3dcdb7fd",
   "metadata": {},
   "outputs": [],
   "source": [
    "B0 = (alfa0*d0@d0.T)/(d0.T@(grad1_2d-grad0_2d))"
   ]
  },
  {
   "cell_type": "code",
   "execution_count": 13,
   "id": "58c99112",
   "metadata": {},
   "outputs": [],
   "source": [
    "c = (((grad1_2d-grad0_2d).T@np.identity(2))@(grad1_2d-grad0_2d))\n",
    "C0 = ((-np.identity(2)@(grad1_2d-grad0_2d))@(np.identity(2)@(grad1_2d-grad0_2d)).T)/c"
   ]
  },
  {
   "cell_type": "code",
   "execution_count": 14,
   "id": "1a8e17e4",
   "metadata": {},
   "outputs": [],
   "source": [
    "A1 = A0 + B0 + C0"
   ]
  },
  {
   "cell_type": "code",
   "execution_count": 15,
   "id": "7e796710",
   "metadata": {},
   "outputs": [],
   "source": [
    "d1 = -A1 @ grad1_2d"
   ]
  },
  {
   "cell_type": "code",
   "execution_count": 16,
   "id": "8da60b63",
   "metadata": {},
   "outputs": [
    {
     "data": {
      "text/plain": [
       "array([[ 0.98217957],\n",
       "       [-0.05404147]])"
      ]
     },
     "execution_count": 16,
     "metadata": {},
     "output_type": "execute_result"
    }
   ],
   "source": [
    "d1"
   ]
  },
  {
   "cell_type": "code",
   "execution_count": 17,
   "id": "7cbb13cd",
   "metadata": {},
   "outputs": [
    {
     "data": {
      "text/latex": [
       "$\\displaystyle 7.58789296243146 alfa - 1.96435914 \\left(- 0.98217957 alfa - 1\\right)^{5} + 8.250308388 \\left(- 0.98217957 alfa - 1\\right)^{3} + 0.86466352 \\left(0.05404147 alfa + 1\\right)^{3} + 6.38888376$"
      ],
      "text/plain": [
       "7.58789296243146*alfa - 1.96435914*(-0.98217957*alfa - 1)**5 + 8.250308388*(-0.98217957*alfa - 1)**3 + 0.86466352*(0.05404147*alfa + 1)**3 + 6.38888376"
      ]
     },
     "execution_count": 17,
     "metadata": {},
     "output_type": "execute_result"
    }
   ],
   "source": [
    "from sympy import *\n",
    "alfa = symbols('alfa')\n",
    "x0 = (-1-alfa*(0.98217957)) \n",
    "x1 =(1 - alfa*(-0.05404147))\n",
    "y = [x0,x1]\n",
    "f = six_hump_camel(y)\n",
    "\n",
    "ff = diff(f, alfa)\n",
    "ff\n",
    "# {alfa -> -2.65191}, {alfa -> -2.33686}, {alfa -> -0.938945}, {alfa ->0.131227}, {alfa -> 0.705773}"
   ]
  },
  {
   "cell_type": "code",
   "execution_count": 18,
   "id": "9ca7f6fd",
   "metadata": {},
   "outputs": [],
   "source": [
    "alfa1 = 0.131227\n",
    "x0_1 = (-0.9792136+alfa1*(0.98217957)) \n",
    "x1_1 =(0.757492 + alfa1*(-0.05404147))"
   ]
  },
  {
   "cell_type": "code",
   "execution_count": 19,
   "id": "4794273b",
   "metadata": {},
   "outputs": [
    {
     "name": "stdout",
     "output_type": "stream",
     "text": [
      "-0.85032512156761\n",
      "0.7504003000163101\n"
     ]
    }
   ],
   "source": [
    "print(x0_1)\n",
    "print(x1_1)"
   ]
  },
  {
   "cell_type": "code",
   "execution_count": 20,
   "id": "1b4df917",
   "metadata": {},
   "outputs": [
    {
     "data": {
      "text/plain": [
       "0.47857155283954844"
      ]
     },
     "execution_count": 20,
     "metadata": {},
     "output_type": "execute_result"
    }
   ],
   "source": [
    "six_hump_camel([-0.9792136,0.757492])"
   ]
  },
  {
   "cell_type": "code",
   "execution_count": 21,
   "id": "b5be793f",
   "metadata": {},
   "outputs": [
    {
     "data": {
      "text/plain": [
       "0.29816779287978445"
      ]
     },
     "execution_count": 21,
     "metadata": {},
     "output_type": "execute_result"
    }
   ],
   "source": [
    "six_hump_camel([-0.85032512156761,0.7504003000163101])"
   ]
  }
 ],
 "metadata": {
  "kernelspec": {
   "display_name": "Python 3",
   "language": "python",
   "name": "python3"
  },
  "language_info": {
   "codemirror_mode": {
    "name": "ipython",
    "version": 3
   },
   "file_extension": ".py",
   "mimetype": "text/x-python",
   "name": "python",
   "nbconvert_exporter": "python",
   "pygments_lexer": "ipython3",
   "version": "3.8.8"
  }
 },
 "nbformat": 4,
 "nbformat_minor": 5
}
