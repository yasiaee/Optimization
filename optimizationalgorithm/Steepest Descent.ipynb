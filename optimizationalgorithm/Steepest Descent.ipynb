{
 "cells": [
  {
   "cell_type": "code",
   "execution_count": 2,
   "id": "60f703d3",
   "metadata": {},
   "outputs": [],
   "source": [
    "import numdifftools as nd\n",
    "import numpy as np"
   ]
  },
  {
   "cell_type": "code",
   "execution_count": 3,
   "id": "1fecbcc6",
   "metadata": {},
   "outputs": [],
   "source": [
    "def six_hump_camel(x):\n",
    "    return (x[0]**6/3) - 2.1*x[0]**4 + 4*x[1]**4 + 4*x[0]**2 -  4*x[1]**2 + x[0]*x[1]"
   ]
  },
  {
   "cell_type": "code",
   "execution_count": 4,
   "id": "b2533e13",
   "metadata": {},
   "outputs": [],
   "source": [
    "grad1 = nd.Gradient(six_hump_camel)([-1,1])"
   ]
  },
  {
   "cell_type": "code",
   "execution_count": 5,
   "id": "7d899b91",
   "metadata": {},
   "outputs": [
    {
     "name": "stdout",
     "output_type": "stream",
     "text": [
      "[-0.6  7. ]\n"
     ]
    }
   ],
   "source": [
    "print(grad1)"
   ]
  },
  {
   "cell_type": "code",
   "execution_count": 6,
   "id": "02c4d290",
   "metadata": {},
   "outputs": [
    {
     "name": "stdout",
     "output_type": "stream",
     "text": [
      "[[49.36]]\n"
     ]
    }
   ],
   "source": [
    "grad1_2d = grad1[..., np.newaxis]\n",
    "grad1_2d_T = np.transpose(grad1_2d)\n",
    "A = grad1_2d_T @ grad1_2d\n",
    "print(A)"
   ]
  },
  {
   "cell_type": "code",
   "execution_count": 7,
   "id": "766005f6",
   "metadata": {},
   "outputs": [],
   "source": [
    "from sympy import *\n",
    "alfa = symbols('alfa')\n",
    "x0 = (-1-alfa*(-0.6)) \n",
    "x1 =(1 - alfa*7)\n",
    "y = [x0,x1]\n",
    "f = six_hump_camel(y)\n",
    "\n",
    "ff = diff(f, alfa)\n"
   ]
  },
  {
   "cell_type": "code",
   "execution_count": 8,
   "id": "30ee664e",
   "metadata": {},
   "outputs": [
    {
     "data": {
      "text/latex": [
       "$\\displaystyle - 397.52 alfa - 112 \\left(1 - 7 alfa\\right)^{3} + 1.2 \\left(0.6 alfa - 1\\right)^{5} - 5.04 \\left(0.6 alfa - 1\\right)^{3} + 58.8$"
      ],
      "text/plain": [
       "-397.52*alfa - 112*(1 - 7*alfa)**3 + 1.2*(0.6*alfa - 1)**5 - 5.04*(0.6*alfa - 1)**3 + 58.8"
      ]
     },
     "execution_count": 8,
     "metadata": {},
     "output_type": "execute_result"
    }
   ],
   "source": [
    "ff"
   ]
  },
  {
   "cell_type": "code",
   "execution_count": 9,
   "id": "6e2b94ef",
   "metadata": {},
   "outputs": [],
   "source": [
    "def m(alfa):\n",
    "    return (-397.52)*alfa-112*(1-7*alfa)**3+1.2*(0.6*alfa-1)**5-5.04*(0.6*alfa-1)**3+58.8"
   ]
  },
  {
   "cell_type": "code",
   "execution_count": 10,
   "id": "91646f3e",
   "metadata": {},
   "outputs": [],
   "source": [
    "from scipy.optimize import fsolve"
   ]
  },
  {
   "cell_type": "code",
   "execution_count": 11,
   "id": "bbd503f5",
   "metadata": {},
   "outputs": [
    {
     "data": {
      "text/plain": [
       "array([0.2381632])"
      ]
     },
     "execution_count": 11,
     "metadata": {},
     "output_type": "execute_result"
    }
   ],
   "source": [
    "fsolve(m,1)"
   ]
  },
  {
   "cell_type": "code",
   "execution_count": 12,
   "id": "2df061bf",
   "metadata": {},
   "outputs": [
    {
     "data": {
      "text/plain": [
       "array([0.03464403])"
      ]
     },
     "execution_count": 12,
     "metadata": {},
     "output_type": "execute_result"
    }
   ],
   "source": [
    "fsolve(m,0)"
   ]
  },
  {
   "cell_type": "code",
   "execution_count": 13,
   "id": "c7851f9c",
   "metadata": {},
   "outputs": [],
   "source": [
    "#{{alfa -> 0.034644}, {alfa -> 0.155721}, {alfa -> 0.238163}}"
   ]
  },
  {
   "cell_type": "code",
   "execution_count": 14,
   "id": "8f475eaf",
   "metadata": {},
   "outputs": [],
   "source": [
    "# minimum positive alfa == 0.034644\n",
    "alfa = 0.034644\n",
    "x0_1 = (-1-alfa*(-0.6)) \n",
    "x1_1 =(1 - alfa*7)"
   ]
  },
  {
   "cell_type": "code",
   "execution_count": 15,
   "id": "ce49937c",
   "metadata": {},
   "outputs": [
    {
     "name": "stdout",
     "output_type": "stream",
     "text": [
      "-0.9792136\n",
      "0.757492\n"
     ]
    }
   ],
   "source": [
    "print(x0_1)\n",
    "print(x1_1)"
   ]
  },
  {
   "cell_type": "code",
   "execution_count": 16,
   "id": "ee8188bc",
   "metadata": {},
   "outputs": [],
   "source": [
    "grad2 = nd.Gradient(six_hump_camel)([x0_1,x1_1])"
   ]
  },
  {
   "cell_type": "code",
   "execution_count": 17,
   "id": "ad35f3ae",
   "metadata": {},
   "outputs": [
    {
     "data": {
      "text/plain": [
       "array([-0.98982097, -0.08483819])"
      ]
     },
     "execution_count": 17,
     "metadata": {},
     "output_type": "execute_result"
    }
   ],
   "source": [
    "grad2"
   ]
  },
  {
   "cell_type": "code",
   "execution_count": 18,
   "id": "62e16bdc",
   "metadata": {},
   "outputs": [
    {
     "name": "stdout",
     "output_type": "stream",
     "text": [
      "[[0.98694307]]\n"
     ]
    }
   ],
   "source": [
    "grad2_2d = grad2[..., np.newaxis]\n",
    "grad2_2d_T = np.transpose(grad2_2d)\n",
    "B = grad2_2d_T @ grad2_2d\n",
    "print(B)"
   ]
  },
  {
   "cell_type": "code",
   "execution_count": 19,
   "id": "643509dc",
   "metadata": {},
   "outputs": [],
   "source": [
    "from sympy import *\n",
    "alfa2 = symbols('alfa2')\n",
    "x0_2 = (x0_1-alfa2*(-0.98982097)) \n",
    "x1_2 =(x1_1 - alfa2*(-0.08483819))\n",
    "yy = [x0_2,x1_2]\n",
    "f1 = six_hump_camel(yy)\n",
    "\n",
    "fff = diff(f1, alfa2)"
   ]
  },
  {
   "cell_type": "code",
   "execution_count": 20,
   "id": "176e25b7",
   "metadata": {},
   "outputs": [
    {
     "data": {
      "text/latex": [
       "$\\displaystyle 7.94833351239181 alfa_{2} + 0.589991192782428 \\left(0.111998793386597 alfa_{2} + 1\\right)^{3} + 1.88091815325895 \\left(alfa_{2} - 0.989283546902426\\right)^{5} - 8.06317132270327 \\left(alfa_{2} - 0.989283546902426\\right)^{3} - 7.60137648810952$"
      ],
      "text/plain": [
       "7.94833351239181*alfa2 + 0.589991192782428*(0.111998793386597*alfa2 + 1)**3 + 1.88091815325895*(alfa2 - 0.989283546902426)**5 - 8.06317132270327*(alfa2 - 0.989283546902426)**3 - 7.60137648810952"
      ]
     },
     "execution_count": 20,
     "metadata": {},
     "output_type": "execute_result"
    }
   ],
   "source": [
    "fff"
   ]
  },
  {
   "cell_type": "code",
   "execution_count": 21,
   "id": "f8711787",
   "metadata": {},
   "outputs": [],
   "source": [
    "def mm(alfa):\n",
    "    return 7.94833351239181*alfa+0.589991192782428*(0.111998793386597*alfa+1)**3+1.88091815325895*(alfa-0.989283546902426)**5-8.06317132270327*(alfa-0.989283546902426)**3-7.60137648810952"
   ]
  },
  {
   "cell_type": "code",
   "execution_count": 22,
   "id": "e3cafb1b",
   "metadata": {},
   "outputs": [
    {
     "data": {
      "text/plain": [
       "array([0.85627349])"
      ]
     },
     "execution_count": 22,
     "metadata": {},
     "output_type": "execute_result"
    }
   ],
   "source": [
    "fsolve(mm,1)"
   ]
  },
  {
   "cell_type": "code",
   "execution_count": 23,
   "id": "e46d9ce6",
   "metadata": {},
   "outputs": [],
   "source": [
    "#{{x -> -0.717592}, {x -> -0.139158}, {x -> 0.856273}}"
   ]
  },
  {
   "cell_type": "code",
   "execution_count": 24,
   "id": "f54b64ca",
   "metadata": {},
   "outputs": [],
   "source": [
    "alfa2 = 0.856273\n",
    "x0_2 = (-0.9792136-alfa2*(-0.98982097)) \n",
    "x1_2 =(0.757492 - alfa2*(-0.08483819))"
   ]
  },
  {
   "cell_type": "code",
   "execution_count": 25,
   "id": "63b39837",
   "metadata": {},
   "outputs": [
    {
     "name": "stdout",
     "output_type": "stream",
     "text": [
      "-0.13165662855519\n",
      "0.83013665146587\n"
     ]
    }
   ],
   "source": [
    "print(x0_2)\n",
    "print(x1_2)"
   ]
  },
  {
   "cell_type": "code",
   "execution_count": 26,
   "id": "f2fbb4c6",
   "metadata": {},
   "outputs": [],
   "source": [
    "grad3 = nd.Gradient(six_hump_camel)([x0_2,x1_2])"
   ]
  },
  {
   "cell_type": "code",
   "execution_count": 27,
   "id": "1df96d02",
   "metadata": {},
   "outputs": [
    {
     "data": {
      "text/plain": [
       "array([-0.20402614,  2.38036159])"
      ]
     },
     "execution_count": 27,
     "metadata": {},
     "output_type": "execute_result"
    }
   ],
   "source": [
    "grad3"
   ]
  },
  {
   "cell_type": "code",
   "execution_count": 28,
   "id": "06014fa9",
   "metadata": {},
   "outputs": [
    {
     "name": "stdout",
     "output_type": "stream",
     "text": [
      "[[5.70774794]]\n"
     ]
    }
   ],
   "source": [
    "grad3_2d = grad3[..., np.newaxis]\n",
    "grad3_2d_T = np.transpose(grad3_2d)\n",
    "C = grad3_2d_T @ grad3_2d\n",
    "print(C)"
   ]
  },
  {
   "cell_type": "code",
   "execution_count": 29,
   "id": "f8206102",
   "metadata": {},
   "outputs": [
    {
     "data": {
      "text/plain": [
       "array([-0.97921358,  0.75749179])"
      ]
     },
     "execution_count": 29,
     "metadata": {},
     "output_type": "execute_result"
    }
   ],
   "source": [
    "import numpy as np\n",
    "\n",
    "def gradient_descent(\n",
    "    gradient, start, learn_rate, n_iter=1, tolerance=1e-06\n",
    "):\n",
    "    vector = start\n",
    "    for _ in range(n_iter):\n",
    "        diff = -learn_rate * gradient(vector)\n",
    "        if np.all(np.abs(diff) <= tolerance):\n",
    "            break\n",
    "        vector += diff\n",
    "    return vector\n",
    "gradient_descent(nd.Gradient(six_hump_camel),[-1,1],0.03464403)\n",
    "\n"
   ]
  },
  {
   "cell_type": "code",
   "execution_count": 30,
   "id": "bcbf73d0",
   "metadata": {},
   "outputs": [
    {
     "data": {
      "text/plain": [
       "1.2333333333333334"
      ]
     },
     "execution_count": 30,
     "metadata": {},
     "output_type": "execute_result"
    }
   ],
   "source": [
    "six_hump_camel([-1,1])"
   ]
  },
  {
   "cell_type": "code",
   "execution_count": 31,
   "id": "87245fd7",
   "metadata": {},
   "outputs": [
    {
     "data": {
      "text/plain": [
       "0.47857155283954844"
      ]
     },
     "execution_count": 31,
     "metadata": {},
     "output_type": "execute_result"
    }
   ],
   "source": [
    "six_hump_camel([-0.9792136,0.757492])"
   ]
  },
  {
   "cell_type": "code",
   "execution_count": 32,
   "id": "132a9381",
   "metadata": {},
   "outputs": [
    {
     "data": {
      "text/plain": [
       "-0.8975124517303251"
      ]
     },
     "execution_count": 32,
     "metadata": {},
     "output_type": "execute_result"
    }
   ],
   "source": [
    "six_hump_camel([-0.13165662855519,0.83013665146587])"
   ]
  }
 ],
 "metadata": {
  "kernelspec": {
   "display_name": "Python 3",
   "language": "python",
   "name": "python3"
  },
  "language_info": {
   "codemirror_mode": {
    "name": "ipython",
    "version": 3
   },
   "file_extension": ".py",
   "mimetype": "text/x-python",
   "name": "python",
   "nbconvert_exporter": "python",
   "pygments_lexer": "ipython3",
   "version": "3.8.8"
  }
 },
 "nbformat": 4,
 "nbformat_minor": 5
}
